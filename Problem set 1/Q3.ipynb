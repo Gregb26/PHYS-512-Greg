{
 "cells": [
  {
   "cell_type": "markdown",
   "metadata": {},
   "source": [
    "## Question 3\n",
    "\n",
    "For the error estimate, what I did is that for every value of T interpolated, I looked for the closest value of T in the data points and computed the difference betweem the two of them. The function lakeshore() returns the interpolated temperatures and the root mean squared error of the differences."
   ]
  },
  {
   "cell_type": "code",
   "execution_count": 22,
   "metadata": {},
   "outputs": [],
   "source": [
    "# Question 3\n",
    "\n",
    "import numpy as np\n",
    "import matplotlib.pyplot as plt\n",
    "from scipy import interpolate\n",
    "\n",
    "data = np.loadtxt('lakeshore.txt')\n",
    "\n",
    "def lakeshore(V, data):\n",
    "    ''' \n",
    "    data = input data set of temperature vs voltage\n",
    "    V = voltages you want to know the temperature of (between 0.090681 and 1.644390)\n",
    "\n",
    "    Function does a cubic spline on the data and returns the interpolated temperature and the estimated root\n",
    "    mean squared error\n",
    "    '''\n",
    "    \n",
    "    data = data[::-1] # sort in ascending order of voltage\n",
    "    V_data = data[:,1]\n",
    "    T_data = data[:,0]\n",
    "\n",
    "    # Let's do a cubic spline using scipy\n",
    "\n",
    "    # interpolate.splrep estimates a cubic spline approximation on (x,y)\n",
    "    spline = interpolate.splrep(V_data,T_data)\n",
    "    # interpolate.splev returns the spline evaluated at the points given\n",
    "    T = interpolate.splev(V, spline)\n",
    "\n",
    "    # estimate of error: take difference between returned interpolated value and the closest data point for temperature\n",
    "    err = np.array([])\n",
    "    for i in range(len(T)):\n",
    "        all_diff = np.abs(T_data - T[i])\n",
    "        min_diff = np.min(all_diff)\n",
    "\n",
    "        err = np.append(err,min_diff)\n",
    "    rmse = np.sqrt(np.mean(err)**2)\n",
    "    return T, rmse\n",
    "    \n"
   ]
  },
  {
   "cell_type": "code",
   "execution_count": 23,
   "metadata": {},
   "outputs": [
    {
     "data": {
      "image/png": "[encoded data removed]",
      "text/plain": [
       "<Figure size 432x288 with 1 Axes>"
      ]
     },
     "metadata": {
      "needs_background": "light"
     },
     "output_type": "display_data"
    },
    {
     "name": "stdout",
     "output_type": "stream",
     "text": [
      "The (very rough) error estimate is: 1.5498786095218726\n",
      "Doesnt look like a bad interpolation at all!\n"
     ]
    }
   ],
   "source": [
    "# test of lakeshore(V, data)\n",
    "\n",
    "test = np.loadtxt('lakeshore.txt')\n",
    "test = test[::-1]\n",
    "V_test = test[:,1]\n",
    "T_test = test[:,0]\n",
    "\n",
    "VV_test = np.linspace(V_test[0], V_test[-1], 2000)\n",
    "test1 = test = np.loadtxt('lakeshore.txt')\n",
    "TT_test = lakeshore(VV_test, test1)[0]\n",
    "\n",
    "plt.plot(V_test, T_test, 'k.', label = 'Actual data')\n",
    "plt.plot(VV_test, TT_test, 'r', label = 'Cubic spline')\n",
    "plt.xlabel('Voltage')\n",
    "plt.ylabel('Temperature')\n",
    "plt.legend(loc = 'best')\n",
    "plt.show()\n",
    "print('The (very rough) error estimate is:', lakeshore(VV_test, test1)[1])\n",
    "print('Doesnt look like a bad interpolation at all!')"
   ]
  }
 ],
 "metadata": {
  "kernelspec": {
   "display_name": "Python 3.10.4 64-bit",
   "language": "python",
   "name": "python3"
  },
  "language_info": {
   "codemirror_mode": {
    "name": "ipython",
    "version": 3
   },
   "file_extension": ".py",
   "mimetype": "text/x-python",
   "name": "python",
   "nbconvert_exporter": "python",
   "pygments_lexer": "ipython3",
   "version": "3.10.4"
  },
  "orig_nbformat": 4,
  "vscode": {
   "interpreter": {
    "hash": "80f4b23b657e28786f8d5c1c8820e160c8eedecbd1acc1ca0904d24a99e1c6de"
   }
  }
 },
 "nbformat": 4,
 "nbformat_minor": 2
}
