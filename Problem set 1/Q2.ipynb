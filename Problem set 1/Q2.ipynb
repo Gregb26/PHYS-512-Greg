{
 "cells": [
  {
   "cell_type": "markdown",
   "metadata": {},
   "source": [
    "## Question 2\n",
    "\n",
    "We went through how to estimate the optimal $dx$ for the centered derivative in class but I will reproduce it here,\n",
    "\n",
    "\\begin{align*}\n",
    "\\frac{f(x+dx)-f(x-dx)}{2dx} \\approx \\frac{(f(x)+dxf'(x)+\\frac{1}{2}dx^2f''(x)+\\frac{1}{6}dx^3f'''(x)+\\epsilon g_1f(x)+...)}{2dx}\n",
    "\n",
    "-\\frac{(f(x)-dxf'(x)+\\frac{1}{2}dx^2f''(x))-\\frac{1}{6}dx^3f''\"(x)+\\epsilon g_2f(x)+...)}{2dx}.\n",
    "\\end{align*}\n",
    "\n",
    "This gives us\n",
    "\\begin{equation}\n",
    "\\frac{f(x+dx)-f(x-dx)}{2dx} \\approx f'(x) + \\frac{1}{6}dx^2f'''(x) + \\frac{\\epsilon gf(x)}{dx}, \n",
    "\\end{equation}\n",
    "\n",
    "where I've combined $g_1$ and $g_2$ into $g$. The last two terms of Equation (1) are the error $\\Delta$ on the derivative, so let's minimize that with respect to $dx$:\n",
    "\n",
    "\\begin{equation*}\n",
    "\\frac{d\\Delta}{d(dx)} = \\frac{1}{3}dxf'''(x) - \\frac{\\epsilon g f(x)}{dx^2} = 0,\n",
    "\\end{equation*}\n",
    "\n",
    "\\begin{equation*}\n",
    "\\frac{1}{3}dxf'''(x) = \\frac{\\epsilon g f(x)}{dx^2},\n",
    "\\end{equation*}\n",
    "\n",
    "\\begin{equation}\n",
    "dx \\approx \\left(\\frac{3\\epsilon f(x)}{f'''(x)}\\right)^{1/3}.\n",
    "\\end{equation}\n",
    "\n",
    "The issue here is that we need to approximate the f'''(x) term. I'm not sure if I was supposed to derived this here, but I looked up online an approximation scheme for the third order derivative using central difference (https://en.wikipedia.org/wiki/Finite_difference_coefficient). \n",
    "\n",
    "\\begin{equation}\n",
    "f'''(x) = \\frac{-f(x-2dx) + 2f(x-dx) -2 f(x+dx) +f(x+2dx)}{2dx}.\n",
    "\\end{equation}\n",
    "\n",
    "The idea is to use Equation (3) with some non-optimal dx to estimate the third order derivative, then use that to find the optimal dx, as well as the error $\\Delta$. There are some expamples below with simple numpy functions. The code is Q2.ipynb."
   ]
  },
  {
   "cell_type": "code",
   "execution_count": 52,
   "metadata": {},
   "outputs": [
    {
     "name": "stdout",
     "output_type": "stream",
     "text": [
      "For exp(x) at x = 1, the numerical derivative is 2.7182818284597934 , the actual value is 2.718281828459045 .\n",
      "The optimal dx and the error estimate are respectively 4.9653677458619375e-06 , 8.211723584998573e-11 .\n",
      "The real error is 7.482903185973555e-13 .\n",
      "\n",
      "\n",
      "For sin(x) at x = 3, the numerical derivative is -0.41614683654057033 , the actual value is -0.4161468365471424 .\n",
      "The optimal dx and the error estimate are respectively 7.891307997729034e-06 , 5.761385990049813e-12 .\n",
      "The real error is 6.572076216571077e-12 .\n",
      "\n",
      "\n",
      "For ln(x) at x = 2, the numerical derivative is 0.5000000000062907 , the actual value is 0.5 .\n",
      "The optimal dx and the error estimate are respectively 7.2086757948656255e-06 , 1.4423186732582125e-11 .\n",
      "The real error is 6.290745702131062e-12 .\n",
      "\n",
      "\n",
      "We get really good numerical derivatives!\n"
     ]
    }
   ],
   "source": [
    "# Question 2\n",
    "import numpy as np\n",
    "import matplotlib.pyplot as plt\n",
    "\n",
    "def ndiff(fun, x, full = False):\n",
    "\n",
    "    eps = 1e-16 # double digit precision\n",
    "    h = 1e-16 # arbitrary, non-optimal dx\n",
    "\n",
    "    third_derivative_estimate = (-fun(x-2*h)+2*fun(x-h)-2*fun(x+h)+fun(x+2*h))/(2*h)\n",
    "\n",
    "    dx = np.abs(np.cbrt((3*eps*fun(x))/third_derivative_estimate)) # optimal dx\n",
    "    err_approx = np.abs((dx**2*third_derivative_estimate)/6 + (eps*fun(x))/dx) # error estimate\n",
    "\n",
    "    diff_approx = (fun(x+dx)-fun(x-dx))/(2*dx) # numerical derivative\n",
    "    \n",
    "\n",
    "    if full == False:\n",
    "        return diff_approx\n",
    "    \n",
    "    else:\n",
    "        return diff_approx, dx, err_approx\n",
    "\n",
    "# some examples with numpy functions\n",
    "print('For exp(x) at x = 1, the numerical derivative is', ndiff(np.exp, 1, full = True)[0], ', the actual value is', np.exp(1),'.')\n",
    "print('The optimal dx and the error estimate are respectively',ndiff(np.exp, 1, full = True)[1],',',ndiff(np.exp, 1, full = True)[2],'.' )\n",
    "print('The real error is', np.abs( ndiff(np.exp, 1, full = True)[0]-np.exp(1)),'.')\n",
    "print('\\n')\n",
    "print('For sin(x) at x = 3, the numerical derivative is', ndiff(np.sin, 2, full = True)[0], ', the actual value is', np.cos(2),'.')\n",
    "print('The optimal dx and the error estimate are respectively',ndiff(np.sin, 2, full = True)[1],',',ndiff(np.sin, 2, full = True)[2],'.' )\n",
    "print('The real error is', np.abs( ndiff(np.sin, 2, full = True)[0]-np.cos(2)),'.')\n",
    "print('\\n')\n",
    "print('For ln(x) at x = 2, the numerical derivative is', ndiff(np.log, 2, full = True)[0], ', the actual value is', 1/(2),'.')\n",
    "print('The optimal dx and the error estimate are respectively',ndiff(np.log, 2, full = True)[1],',',ndiff(np.log, 2, full = True)[2],'.' )\n",
    "print('The real error is', np.abs( ndiff(np.log, 2, full = True)[0]-1/(2)),'.')\n",
    "print('\\n')\n",
    "print('We get really good numerical derivatives!')"
   ]
  }
 ],
 "metadata": {
  "kernelspec": {
   "display_name": "Python 3.10.4 64-bit",
   "language": "python",
   "name": "python3"
  },
  "language_info": {
   "codemirror_mode": {
    "name": "ipython",
    "version": 3
   },
   "file_extension": ".py",
   "mimetype": "text/x-python",
   "name": "python",
   "nbconvert_exporter": "python",
   "pygments_lexer": "ipython3",
   "version": "3.10.4"
  },
  "orig_nbformat": 4,
  "vscode": {
   "interpreter": {
    "hash": "80f4b23b657e28786f8d5c1c8820e160c8eedecbd1acc1ca0904d24a99e1c6de"
   }
  }
 },
 "nbformat": 4,
 "nbformat_minor": 2
}
