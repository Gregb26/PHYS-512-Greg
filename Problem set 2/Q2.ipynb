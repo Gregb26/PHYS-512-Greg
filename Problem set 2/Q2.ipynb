{
 "cells": [
  {
   "cell_type": "markdown",
   "metadata": {},
   "source": [
    "## Question 2"
   ]
  },
  {
   "cell_type": "code",
   "execution_count": 54,
   "metadata": {},
   "outputs": [
    {
     "name": "stdout",
     "output_type": "stream",
     "text": [
      "Integrating the gaussian from -5 to 5 using the lazy integrator yields 2.5065467503068897 this has an error of 0.0002925344949170274 and it took 75 functions calls.\n",
      "Integrating the gaussian from -5 to 5 using the adaptive integrator yields 2.5065467503068897 this has an error of 0.0002925344949170274 and it took 30 functions calls.\n",
      "\n",
      "\n",
      "Integrating the sine from -pi to pi using the lazy integrator yields -1.4443735078085258e-16 this has an error of 1.4443735078085258e-16 and it took 5 functions calls.\n",
      "Integrating the sine from -pi to pi using the adaptive integrator yields -1.4443735078085258e-16 this has an error of 1.4443735078085258e-16 and it took 5 functions calls.\n",
      "\n",
      "\n",
      "Integrating the lorentzian from -5 to 5 using the lazy integrator yields 2.7468293729004447 this has an error of 0.00033018321968407427 and it took 70 functions calls.\n",
      "Integrating the lorentzian from -5 to 5 using the adaptive integrator yields 2.7468293729004447 this has an error of 0.00033018321968407427 and it took 5 functions calls.\n"
     ]
    }
   ],
   "source": [
    "# Question 2\n",
    "\n",
    "import numpy as np\n",
    "\n",
    "# Let's write our integrators\n",
    "\n",
    "def lazy_integrate(fun,a,b,tol):\n",
    "\n",
    "    ''' Lazy adaptive Simpsons integrator. Code is tweaked from class. Takes some function fun, with bounds a and b, and tolerance tol.\n",
    "    Return the value of the integral, the error and the number of function calls'''\n",
    "    \n",
    "    x=np.linspace(a,b,5)\n",
    "    dx=x[1]-x[0]\n",
    "    y=fun(x)\n",
    "\n",
    "    n = len(x)\n",
    "\n",
    "    # Simpson's rule\n",
    "    i1=(y[0]+4*y[2]+y[4])/3*(2*dx)\n",
    "    i2=(y[0]+4*y[1]+2*y[2]+4*y[3]+y[4])/3*dx\n",
    "\n",
    "    myerr=np.abs(i1-i2)\n",
    "    if myerr<tol:\n",
    "        return i2, myerr, n\n",
    "    else:\n",
    "        mid=(a+b)/2\n",
    "        int_left, myerr_left, n_left = lazy_integrate(fun,a,mid,tol/2)\n",
    "        int_right, myerr_right, n_right = lazy_integrate(fun,mid,b,tol/2)\n",
    "\n",
    "        return int_left+int_right, myerr_left+myerr_right, n_right+n_left\n",
    "\n",
    "\n",
    "def integrate_adaptive(fun, a,b, tol, extra = [None,None,None]):\n",
    "    ''' Less lazy adaptive Simpsons integrator. Code is again tweaked from class. Takes some function fun, with bounds a and b, and tolerance tol.\n",
    "    Return the value of the integral, the error and the number of function calls'''\n",
    "\n",
    "    if extra[0] is None:\n",
    "        x=np.linspace(a,b,5)\n",
    "        dx=x[1]-x[0]\n",
    "        y = fun(x)\n",
    "        n = len(x)\n",
    "    else:\n",
    "        x=np.linspace(a,b,5)\n",
    "        y = fun(x)\n",
    "        dx=x[1]-x[0]\n",
    "        y[0], y[2], y[4] = extra\n",
    "        y[1]= fun(x[1]); y[3]=fun(x[3])\n",
    "        n = 2\n",
    "\n",
    "    # Simpson's rule\n",
    "    i1=(y[0]+4*y[2]+y[4])/3*(2*dx)\n",
    "    i2=(y[0]+4*y[1]+2*y[2]+4*y[3]+y[4])/3*dx\n",
    "\n",
    "    myerr=np.abs(i1-i2)\n",
    "    if myerr<tol:\n",
    "        return i2, myerr, n\n",
    "\n",
    "    else:\n",
    "        mid=(a+b)/2\n",
    "        int_left, myerr_left, n_left = integrate_adaptive(fun,a,mid,tol/2, [y[0],y[1],y[2]])\n",
    "        int_right, myerr_right, n_right = integrate_adaptive(fun,mid,b,tol/2, [y[2],y[3],y[4]])\n",
    "\n",
    "    return int_left+int_right, myerr_left+myerr_right, n_right+n_left\n",
    "\n",
    "# defining some functions to test our integrators\n",
    "\n",
    "\n",
    "def gaussian(x):\n",
    "    return np.exp(-(x-1)**2/(2))\n",
    "\n",
    "def sin(x):\n",
    "    return np.sin(5*x)\n",
    "\n",
    "def lorentz(x):\n",
    "    return 1/(1+x**2)\n",
    "# running the tests\n",
    "\n",
    "\n",
    "print('Integrating the gaussian from -5 to 5 using the lazy integrator yields', lazy_integrate(gaussian, -5, 5, tol = 1e-3)[0], 'this has an error of', \n",
    "lazy_integrate(gaussian, -5, 5, tol = 1e-3)[1], 'and it took',lazy_integrate(gaussian, -5, 5, tol = 1e-3)[2], 'functions calls.' )\n",
    "print('Integrating the gaussian from -5 to 5 using the adaptive integrator yields', integrate_adaptive(gaussian, -5, 5, tol = 1e-3)[0], 'this has an error of', \n",
    "integrate_adaptive(gaussian, -5, 5, tol = 1e-3)[1], 'and it took',integrate_adaptive(gaussian, -5, 5, tol = 1e-3)[2], 'functions calls.' )\n",
    "print('\\n')\n",
    "print('Integrating the sine from -pi to pi using the lazy integrator yields', lazy_integrate(sin, -np.pi, np.pi, tol = 1e-3)[0], 'this has an error of', \n",
    "lazy_integrate(sin, -np.pi, np.pi, tol = 1e-3)[1], 'and it took',lazy_integrate(sin, -np.pi, np.pi, tol = 1e-3)[2], 'functions calls.' )\n",
    "print('Integrating the sine from -pi to pi using the adaptive integrator yields', integrate_adaptive(sin, -np.pi, np.pi, tol = 1e-3)[0], 'this has an error of', \n",
    "integrate_adaptive(sin, -np.pi, np.pi, tol = 1e-3)[1], 'and it took',integrate_adaptive(sin, -np.pi, np.pi, tol = 1e-3)[2], 'functions calls.' )\n",
    "print('\\n')\n",
    "print('Integrating the lorentzian from -5 to 5 using the lazy integrator yields', lazy_integrate(lorentz, -5, 5, tol = 1e-3)[0], 'this has an error of', \n",
    "lazy_integrate(lorentz, -5, 5, tol = 1e-3)[1], 'and it took',lazy_integrate(lorentz, -5, 5, tol = 1e-3)[2], 'functions calls.' )\n",
    "print('Integrating the lorentzian from -5 to 5 using the adaptive integrator yields', integrate_adaptive(lorentz, -5, 5, tol = 1e-3)[0], 'this has an error of', \n",
    "integrate_adaptive(lorentz, -5, 5, tol = 1e-3)[1], 'and it took',integrate_adaptive(sin, 5, 5, tol = 1e-3)[2], 'functions calls.' )"
   ]
  },
  {
   "cell_type": "markdown",
   "metadata": {},
   "source": [
    "The smarter integrator seems to need a lot less function calls for more functions with narrower peaks (like a Gaussian or a Lorentzian). Indeed, it needed 45 less functions calls than the lazy integrator for the Gaussian and 65 less function calls for the Lorentzian. However, there was no difference in the number of function calls betweem the two integrators for the sine function."
   ]
  }
 ],
 "metadata": {
  "kernelspec": {
   "display_name": "Python 3.10.4 64-bit",
   "language": "python",
   "name": "python3"
  },
  "language_info": {
   "codemirror_mode": {
    "name": "ipython",
    "version": 3
   },
   "file_extension": ".py",
   "mimetype": "text/x-python",
   "name": "python",
   "nbconvert_exporter": "python",
   "pygments_lexer": "ipython3",
   "version": "3.10.4"
  },
  "orig_nbformat": 4,
  "vscode": {
   "interpreter": {
    "hash": "80f4b23b657e28786f8d5c1c8820e160c8eedecbd1acc1ca0904d24a99e1c6de"
   }
  }
 },
 "nbformat": 4,
 "nbformat_minor": 2
}
