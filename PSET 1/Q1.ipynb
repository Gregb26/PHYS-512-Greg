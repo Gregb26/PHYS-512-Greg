{
 "cells": [
  {
   "cell_type": "markdown",
   "metadata": {},
   "source": [
    "## Question 1\n",
    "# a)\n",
    "We can approximate a derivative with two points using a derivative to the left, and one to the right using \n",
    "\\begin{equation*}\n",
    "f'(x) = \\frac{f(x+\\delta)-f(x-\\delta)}{2\\delta},\n",
    "\\end{equation*}\n",
    "or\n",
    "\\begin{equation*}\n",
    "f'(x) = \\frac{f(x+2\\delta)-f(x-2\\delta)}{4\\delta},\n",
    "\\end{equation*}\n",
    "\n",
    "In this problem, I will use the four points $x\\pm\\delta$ and $x\\pm 2\\delta$ to approximate the derivative,\n",
    "\n",
    "To approximate this, we can Taylor expand it: $f(x\\pm\\delta) = f(x) \\pm \\delta f'(x) + \\frac{1}{2}\\delta^2f''(x) \\pm \\frac{1}{3!}\\delta^3f'''(x) + \\frac{1}{4!}\\delta^4f^{(4)}(x)\\pm\\frac{1}{5!}\\delta^5f^{(5)}(x)+...$\n",
    "\n",
    "Similarly, for $f(x\\pm 2\\delta)$: $f(x\\pm 2\\delta) = f(x) \\pm 2\\delta f'(x) + \\frac{2^2}{2}\\delta^2f''(x) \\pm \\frac{2^3}{3!}\\delta^3f'''(x) + \\frac{2^4}{4!}\\delta^4f^{(4)}(x)\\pm\\frac{2^5}{5!}\\delta^5f^{(5)}(x)+...$\n",
    "\n",
    "\n",
    "This is awful, but we can cancel out some terms: all the non $\\pm$ terms will go away if we do $f(x+\\delta) - f(x-\\delta)$ and $f(x+2\\delta)-f(x-2\\delta)$ so let's do it. We have:\n",
    "\n",
    "\\begin{equation}\n",
    "f(x+\\delta) - f(x-\\delta) \\approx 2\\delta f'(x) + \\frac{1}{3}\\delta^3f'''(x) + \\frac{1}{60}\\delta^5f^{(5)}(x),\n",
    "\\end{equation}\n",
    "\n",
    "and\n",
    "\n",
    "\\begin{equation}\n",
    "f(x+2\\delta)-f(x-2\\delta) = 4\\delta f'(x) + \\frac{8}{3}\\delta^3f'''(x) + \\frac{8}{15}\\delta^5f^{(5)}(x),\n",
    "\\end{equation}\n",
    "\n",
    "where I have truncated after the 5th order. We can get a better estimate of $f'(x)$ if we manage to cancel out the $f'''(x)$ term. We need a linear combination of the two derivatives such that: \n",
    "\\begin{equation}\n",
    "a\\left(\\frac{f(x+\\delta)-f(x-\\delta)}{2\\delta}\\right) + b\\left(\\frac{f(x+2\\delta)-f(x-2\\delta)}{4\\delta}\\right) = \\delta f'(x) + c\\delta^5f^{(5)}(x)\n",
    "\\end{equation}\n",
    "\n",
    "Putting Equations (1) and (2) in this gives:\n",
    "\\begin{equation*}\n",
    "a \\left(\\delta f'(x) + \\frac{1}{6}\\delta^3f'''(x) + \\frac{1}{120}\\delta^5f^{(5)}(x)\\right) + b\\left(\\delta f'(x) + \\frac{2}{3}\\delta^3f'''(x) + \\frac{2}{15}\\delta^5f^{(5)}(x)\\right)= \\delta f'(x) + c\\delta^5f^{(5)}(x).\n",
    "\\end{equation*}\n",
    "\n",
    "This gives the system of equations: \n",
    "\\begin{equation*}\n",
    "\\frac{a}{6} + \\frac{2b}{3} = 0\n",
    "\\end{equation*}\n",
    "\n",
    "\\begin{equation*}\n",
    "a+b = 1\n",
    "\\end{equation*}\n",
    "\n",
    "Which has solutions $a = 4/3$ and $b = -1/3$, and this sets $c$ to be $-1/30$. Plugging these values in Equation (3) yields:\n",
    "\\begin{equation*}\n",
    "\\frac{4}{3}\\left(\\frac{f(x+\\delta)-f(x-\\delta)}{2\\delta}\\right) - \\frac{1}{3}\\left(\\frac{f(x+2\\delta)-f(x-2\\delta)}{4\\delta}\\right) = \\delta f'(x) - \\frac{1}{30}\\delta^5f^{(5)}(x),\n",
    "\\end{equation*}\n",
    "and we can solve for $f'(x)$:\n",
    "\\begin{equation}\n",
    "f'(x) = \\frac{8(f(x+\\delta)-f(x-\\delta))- (f(x+2\\delta)-f(x-2\\delta))}{12\\delta} +\\frac{1}{30}\\delta^5f^{(5)}(x).\n",
    "\\end{equation}\n"
   ]
  },
  {
   "cell_type": "markdown",
   "metadata": {},
   "source": []
  },
  {
   "cell_type": "code",
   "execution_count": null,
   "metadata": {},
   "outputs": [],
   "source": [
    "!export PATH=/Library/TeX/texbin:$PATH"
   ]
  }
 ],
 "metadata": {
  "kernelspec": {
   "display_name": "Python 3.10.4 64-bit",
   "language": "python",
   "name": "python3"
  },
  "language_info": {
   "name": "python",
   "version": "3.10.4"
  },
  "orig_nbformat": 4,
  "vscode": {
   "interpreter": {
    "hash": "80f4b23b657e28786f8d5c1c8820e160c8eedecbd1acc1ca0904d24a99e1c6de"
   }
  }
 },
 "nbformat": 4,
 "nbformat_minor": 2
}
