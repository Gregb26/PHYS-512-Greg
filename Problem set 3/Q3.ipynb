{
 "cells": [
  {
   "cell_type": "markdown",
   "metadata": {},
   "source": [
    "## Question 3\n",
    "\n",
    "a) The equation for a rotationally symmetric paraboloid is\n",
    "\\begin{equation*}\n",
    "z-z_0 = a((x-x_0)^2+(y-y_0)^2).\n",
    "\\end{equation*}\n",
    "Let's expand this:\n",
    "\\begin{equation*}\n",
    "z = a(x^2+y^2)-2axx_0-2ayy_0+a(x_0^2+y_0^2).\n",
    "\\end{equation*}\n",
    "To do some linear least-squares fit we want $z=$ (linear combinations of powers of $x$ and $y$), where the constants in the linear combinations are linear. That's not quite what we have (we have some $x_0^2, some $ax_0$, etc.), so let's pick some new constants $b,c,d,e$ such that\n",
    "\\begin{equation*}\n",
    "z = b(x^2+y^2)+cx+dy+e.\n",
    "\\end{equation*}\n",
    "This will allow us to determine $b,c,d,e$ using least-squares, because they are linear. We can also directly read off what these constants should be in terms of the old parameters:\n",
    "\\begin{align*}\n",
    "b &=a,\\\\\n",
    "c &=-2ax_0,\\\\\n",
    "d &=-2ay_0,\\\\\n",
    "e &=a(x_0^2+y_0^2)+z_0,\n",
    "\\end{align*}\n",
    "and so,\n",
    "\\begin{align*}\n",
    "a &=b,\\\\\n",
    "x_0 &=-c/2b,\\\\\n",
    "y_0 &=-d/2b,\\\\\n",
    "z_0 &= e-\\frac{1}{4b}(c^2+d^2).\n",
    "\\end{align*}"
   ]
  },
  {
   "cell_type": "code",
   "execution_count": 44,
   "metadata": {},
   "outputs": [
    {
     "name": "stdout",
     "output_type": "stream",
     "text": [
      "The best fit parameters are:\n",
      "a =  0.00016670445477399477 mm\n",
      "x0 =  -1.3604886161321565 mm\n",
      "y0 =  58.22147612332249 mm\n",
      "z0 =  -1512.8772100375948 mm\n"
     ]
    }
   ],
   "source": [
    "# Question 3 b)\n",
    "\n",
    "import numpy as np \n",
    "import matplotlib.pyplot as plt\n",
    "\n",
    "plt.rc('text', usetex=True)\n",
    "plt.rc('font', family='serif')\n",
    "plt.rcParams['figure.dpi'] = 120\n",
    "\n",
    "data = np.loadtxt('dish_zenith.txt')\n",
    "x_data = data[:,0]; y_data = data[:,1]; z_data = data[:,2]\n",
    "\n",
    "# set up array of values\n",
    "A = np.empty([len(x_data), 4])\n",
    "\n",
    "# first column should be x**2+y**2\n",
    "A[:, 0] = x_data**2 + y_data**2\n",
    "# second column is just x\n",
    "A[:,1] = x_data\n",
    "# third column is y\n",
    "A[:,2] = y_data\n",
    "# fourth column is constant\n",
    "A[:,3] = 1\n",
    "\n",
    "# use svd decomposition\n",
    "u,s,v=np.linalg.svd(A,0)\n",
    "mfit=v.T@np.diag(1/s)@u.T@z_data\n",
    "pred = A@mfit\n",
    "\n",
    "b,c,d,e = mfit\n",
    "\n",
    "# old parameters\n",
    "a = b; x0 = -c/(2*b); y0 = -d/(2*b); z0 = e -(c**2+d**2)/(4*b)\n",
    "\n",
    "print('The best fit parameters are:')\n",
    "print('a = ', a, 'mm')\n",
    "print('x0 = ', x0, 'mm')\n",
    "print('y0 = ', y0, 'mm')\n",
    "print('z0 = ', z0, 'mm')"
   ]
  },
  {
   "cell_type": "code",
   "execution_count": 47,
   "metadata": {},
   "outputs": [
    {
     "name": "stdout",
     "output_type": "stream",
     "text": [
      "The uncertainty on \"a\" is: 6.451899757263453e-08\n",
      "1499.6599841253853 0.5804077581894141\n"
     ]
    }
   ],
   "source": [
    "# Question 3 c)\n",
    "\n",
    "# let's estimate the noise\n",
    "N = np.mean((z_data-pred)**2)\n",
    "\n",
    "# from our estimate in the noise, we can find the error on the parameters and the model\n",
    "parameter_error = np.sqrt(N*np.diag(np.linalg.inv(A.T@A)))\n",
    "\n",
    "B = A@np.linalg.inv(A.T@A)@A.T\n",
    "model_error=np.sqrt(N*np.diag(B))\n",
    "\n",
    "print('The uncertainty on \"a\" is:',parameter_error[0])\n",
    "\n",
    "# focal length is 1/(4a)\n",
    "f = 1/(4*a)\n",
    "\n",
    "# using uncertainty propagation\n",
    "f_err = f*(parameter_error[0]/a )\n",
    "\n",
    "print(f, f_err)\n",
    "\n"
   ]
  }
 ],
 "metadata": {
  "kernelspec": {
   "display_name": "Python 3.10.4 64-bit",
   "language": "python",
   "name": "python3"
  },
  "language_info": {
   "codemirror_mode": {
    "name": "ipython",
    "version": 3
   },
   "file_extension": ".py",
   "mimetype": "text/x-python",
   "name": "python",
   "nbconvert_exporter": "python",
   "pygments_lexer": "ipython3",
   "version": "3.10.4"
  },
  "orig_nbformat": 4,
  "vscode": {
   "interpreter": {
    "hash": "80f4b23b657e28786f8d5c1c8820e160c8eedecbd1acc1ca0904d24a99e1c6de"
   }
  }
 },
 "nbformat": 4,
 "nbformat_minor": 2
}
